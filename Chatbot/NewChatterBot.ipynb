{
 "cells": [
  {
   "cell_type": "code",
   "execution_count": 1,
   "id": "06066b19-4717-4d65-ac7f-f610e895ec65",
   "metadata": {},
   "outputs": [],
   "source": [
    "#https://towardsdatascience.com/how-to-build-your-own-chatbot-using-deep-learning-bb41f970e281"
   ]
  },
  {
   "cell_type": "code",
   "execution_count": null,
   "id": "601767ad-15ee-4009-b2d4-2bd6ba2448f4",
   "metadata": {},
   "outputs": [],
   "source": [
    "# How to build our Own Chatbot Using Deep Learning"
   ]
  },
  {
   "cell_type": "code",
   "execution_count": null,
   "id": "a18613dc-a836-4c92-9034-5ce5f54511f5",
   "metadata": {},
   "outputs": [],
   "source": []
  }
 ],
 "metadata": {
  "kernelspec": {
   "display_name": "Python 3 (ipykernel)",
   "language": "python",
   "name": "python3"
  },
  "language_info": {
   "codemirror_mode": {
    "name": "ipython",
    "version": 3
   },
   "file_extension": ".py",
   "mimetype": "text/x-python",
   "name": "python",
   "nbconvert_exporter": "python",
   "pygments_lexer": "ipython3",
   "version": "3.9.7"
  }
 },
 "nbformat": 4,
 "nbformat_minor": 5
}

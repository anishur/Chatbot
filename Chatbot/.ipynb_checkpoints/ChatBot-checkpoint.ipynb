{
 "cells": [
  {
   "cell_type": "code",
   "execution_count": 1,
   "id": "8a431f95-48be-4a0c-96c5-222311d8ee07",
   "metadata": {},
   "outputs": [],
   "source": [
    "#https://pykit.org/chatbot-in-python-using-nlp/\n",
    "#https://github.com/vishal-verma27/Building-a-Simple-Chatbot-in-Python-using-NLTK"
   ]
  },
  {
   "cell_type": "code",
   "execution_count": 2,
   "id": "6b3edbaa-bee4-4ae3-8056-a0b6167ca03a",
   "metadata": {},
   "outputs": [],
   "source": [
    "import tensorflow as tf\n",
    "from tensorflow import keras"
   ]
  },
  {
   "cell_type": "code",
   "execution_count": 3,
   "id": "a6a6d728-596d-418b-8eb0-f9d38e9a1c1a",
   "metadata": {},
   "outputs": [],
   "source": [
    "from tensorflow.keras import Sequential\n",
    "from tensorflow.keras.layers import Dense, Activation, Dropout\n",
    "from tensorflow.keras.optimizers import SGD\n",
    "from keras.models import load_model"
   ]
  },
  {
   "cell_type": "code",
   "execution_count": 4,
   "id": "48b117e3-1477-4bd8-adf6-779e4d24a225",
   "metadata": {},
   "outputs": [],
   "source": [
    "import numpy as np\n",
    "import nltk\n",
    "from nltk.stem import WordNetLemmatizer\n",
    "import json\n",
    "import pickle\n",
    "import random"
   ]
  },
  {
   "cell_type": "code",
   "execution_count": 5,
   "id": "d7d419d6-f405-4d94-ad53-f949f11226f2",
   "metadata": {},
   "outputs": [],
   "source": [
    "import warnings\n",
    "warnings.filterwarnings(\"ignore\")"
   ]
  },
  {
   "cell_type": "code",
   "execution_count": 6,
   "id": "079649c8-f853-4f8b-804f-45d5cd13cfe3",
   "metadata": {},
   "outputs": [],
   "source": [
    "# Create an object of WordNetLemmatizer"
   ]
  },
  {
   "cell_type": "code",
   "execution_count": 7,
   "id": "cfc64738-2950-420f-9dee-c2986a991aa9",
   "metadata": {},
   "outputs": [],
   "source": [
    "lemmatizer = WordNetLemmatizer()"
   ]
  },
  {
   "cell_type": "code",
   "execution_count": 8,
   "id": "21d6e4c9-d220-45cc-a77c-1ae9d0b9ac6e",
   "metadata": {},
   "outputs": [],
   "source": [
    "# importing the Train Bot corpus file for pre-processing"
   ]
  },
  {
   "cell_type": "code",
   "execution_count": 9,
   "id": "5b4eaebd-0d82-4269-a99c-60dbe9ba290a",
   "metadata": {},
   "outputs": [],
   "source": [
    "words = []\n",
    "classes = []\n",
    "documents = []\n",
    "ignore_words = ['?', '!']\n"
   ]
  },
  {
   "cell_type": "code",
   "execution_count": 10,
   "id": "8b2fb839-050b-4a0c-9cf5-24501cbc29e3",
   "metadata": {},
   "outputs": [],
   "source": [
    "data_file = open(\"Train_Bot.json\").read()\n",
    "intents = json.loads(data_file)"
   ]
  },
  {
   "cell_type": "code",
   "execution_count": 11,
   "id": "6a4de562-f8c6-4bd3-b3cd-b7f6d318ab62",
   "metadata": {},
   "outputs": [],
   "source": [
    "# Data pre-processing : can refer to the manipulation or dropping of data before it is used in order to ensure or enhance performance"
   ]
  },
  {
   "cell_type": "code",
   "execution_count": 12,
   "id": "7c781685-b657-418b-bd6e-a3c316927760",
   "metadata": {},
   "outputs": [],
   "source": [
    "# Pre-process the json data\n",
    "# tokenization"
   ]
  },
  {
   "cell_type": "code",
   "execution_count": 13,
   "id": "ef0aa5f3-8857-4f60-b299-5e8142b08dd7",
   "metadata": {},
   "outputs": [
    {
     "name": "stderr",
     "output_type": "stream",
     "text": [
      "[nltk_data] Downloading package punkt to\n",
      "[nltk_data]     C:\\Users\\mdani\\AppData\\Roaming\\nltk_data...\n",
      "[nltk_data]   Package punkt is already up-to-date!\n",
      "[nltk_data] Downloading package wordnet to\n",
      "[nltk_data]     C:\\Users\\mdani\\AppData\\Roaming\\nltk_data...\n",
      "[nltk_data]   Package wordnet is already up-to-date!\n",
      "[nltk_data] Downloading package omw-1.4 to\n",
      "[nltk_data]     C:\\Users\\mdani\\AppData\\Roaming\\nltk_data...\n",
      "[nltk_data]   Package omw-1.4 is already up-to-date!\n"
     ]
    },
    {
     "data": {
      "text/plain": [
       "True"
      ]
     },
     "execution_count": 13,
     "metadata": {},
     "output_type": "execute_result"
    }
   ],
   "source": [
    "import nltk\n",
    "nltk.download('punkt')\n",
    "nltk.download('wordnet')\n",
    "nltk.download('omw-1.4')"
   ]
  },
  {
   "cell_type": "code",
   "execution_count": 14,
   "id": "32a39e70-bd10-4cb4-88d6-14c5153c755f",
   "metadata": {},
   "outputs": [],
   "source": [
    "for intent in intents['intents']:\n",
    "    for pattern in intent['patterns']:\n",
    "        \n",
    "        # tokenize each word\n",
    "        \n",
    "        w = nltk.word_tokenize(pattern)\n",
    "        words.extend(w)\n",
    "        \n",
    "        #add documents in the corpus\n",
    "        \n",
    "        documents.append((w, intent['tag']))\n",
    "        \n",
    "        #add to our classes list\n",
    "        \n",
    "        if intent['tag'] not in classes:\n",
    "            \n",
    "            classes.append(intent['tag'])"
   ]
  },
  {
   "cell_type": "code",
   "execution_count": 15,
   "id": "9e36030c-8512-428a-93be-532287b1990a",
   "metadata": {},
   "outputs": [],
   "source": [
    "# In the above code, we are using the Corpus Data which contains nested JSON values and \n",
    "# updating the existing empty lists words, documents and classes [mentioned in the code line 9] "
   ]
  },
  {
   "cell_type": "code",
   "execution_count": 16,
   "id": "59da7ef1-f3f2-4575-b638-e69d816f8130",
   "metadata": {},
   "outputs": [],
   "source": [
    "# Tokenize or Tokenization is used to split a large sample of text or sentences into words\n",
    "# Below code shown the sample from each list we have created above"
   ]
  },
  {
   "cell_type": "code",
   "execution_count": 17,
   "id": "b8f53bea-3ffa-4cb4-8522-0d679e123ebe",
   "metadata": {},
   "outputs": [
    {
     "name": "stdout",
     "output_type": "stream",
     "text": [
      "This is words list\n",
      "['you', 'is']\n"
     ]
    }
   ],
   "source": [
    "print(\"This is words list\")\n",
    "print(words[3:5])"
   ]
  },
  {
   "cell_type": "code",
   "execution_count": 18,
   "id": "72415c91-0a30-434e-aa46-615cb5d7fd64",
   "metadata": {},
   "outputs": [
    {
     "name": "stdout",
     "output_type": "stream",
     "text": [
      "This is documents list\n",
      "[(['hello'], 'Intro'), (['whats', 'up'], 'Intro')]\n"
     ]
    }
   ],
   "source": [
    "print(\"This is documents list\")\n",
    "print(documents[3:5])"
   ]
  },
  {
   "cell_type": "code",
   "execution_count": 19,
   "id": "0ec8260d-d583-4ef9-a1b8-4b338c6e72e2",
   "metadata": {},
   "outputs": [
    {
     "name": "stdout",
     "output_type": "stream",
     "text": [
      "This is classes list\n",
      "['SL', 'NN']\n"
     ]
    }
   ],
   "source": [
    "print(\"This is classes list\")\n",
    "print(classes[3:5])"
   ]
  },
  {
   "cell_type": "code",
   "execution_count": 20,
   "id": "b572271c-32b3-471c-a0ad-2abe83a47a76",
   "metadata": {},
   "outputs": [],
   "source": [
    "# Lemmatize, Lower eeach word and remove duplicates"
   ]
  },
  {
   "cell_type": "code",
   "execution_count": 21,
   "id": "86ba46cf-6db4-4a01-b755-6304095a30dc",
   "metadata": {},
   "outputs": [],
   "source": [
    "lemmatizer = WordNetLemmatizer()\n",
    "words = [lemmatizer.lemmatize(w.lower()) for w in words if w not in ignore_words]\n",
    "words = sorted(list(set(words)))"
   ]
  },
  {
   "cell_type": "code",
   "execution_count": 22,
   "id": "f4be4a0c-509f-47cd-b537-20db7a1e6ac2",
   "metadata": {},
   "outputs": [],
   "source": [
    "# sort classes"
   ]
  },
  {
   "cell_type": "code",
   "execution_count": 23,
   "id": "74e06ba6-4bdf-433e-b8c4-628445cd9f77",
   "metadata": {},
   "outputs": [],
   "source": [
    "classes = sorted(list(set(classes)))"
   ]
  },
  {
   "cell_type": "code",
   "execution_count": 24,
   "id": "73365e3f-373f-4497-a318-f4452b72ed3d",
   "metadata": {},
   "outputs": [],
   "source": [
    "# documents = combination between patterns and intents"
   ]
  },
  {
   "cell_type": "code",
   "execution_count": 25,
   "id": "e4a358a8-4811-4cbd-a346-b50bd73d4955",
   "metadata": {},
   "outputs": [
    {
     "name": "stdout",
     "output_type": "stream",
     "text": [
      "Document Length = \n",
      "128 documents\n"
     ]
    }
   ],
   "source": [
    "print(\"Document Length = \")\n",
    "print(len(documents),\"documents\")"
   ]
  },
  {
   "cell_type": "code",
   "execution_count": 26,
   "id": "9fe3ae87-6190-4be1-b31f-dd8d7c403e01",
   "metadata": {},
   "outputs": [],
   "source": [
    "# classes = intents"
   ]
  },
  {
   "cell_type": "code",
   "execution_count": 27,
   "id": "d04e09a5-a9c8-4594-bf67-bad1e2696f44",
   "metadata": {},
   "outputs": [
    {
     "name": "stdout",
     "output_type": "stream",
     "text": [
      "Class Length  = \n",
      "8 classes ['Bot', 'Exit', 'Intro', 'NN', 'Olympus', 'Profane', 'SL', 'Ticket']\n"
     ]
    }
   ],
   "source": [
    "print(\"Class Length  = \")\n",
    "print (len(classes),\"classes\", classes)"
   ]
  },
  {
   "cell_type": "code",
   "execution_count": 28,
   "id": "d4a1ab64-d823-4157-8252-7bd121aeb262",
   "metadata": {},
   "outputs": [],
   "source": [
    "# words = all words, vocabulary"
   ]
  },
  {
   "cell_type": "code",
   "execution_count": 29,
   "id": "332ff444-53f7-4cbf-9d9e-06d61cab3c79",
   "metadata": {},
   "outputs": [
    {
     "name": "stdout",
     "output_type": "stream",
     "text": [
      "158 unique lemmatized words = \n",
      "\n",
      " ['a', 'able', 'access', 'activation', 'ada', 'adam', 'aifl', 'aiml', 'am', 'an', 'ann', 'anyone', 'are', 'artificial', 'backward', 'bad', 'bagging', 'batch', 'bayes', 'belong', 'best', 'blended', 'bloody', 'boosting', 'bot', 'buddy', 'classification', 'contact', 'create', 'cross', 'cya', 'day', 'deep', 'did', 'diffult', 'do', 'ensemble', 'epoch', 'explain', 'first', 'for', 'forest', 'forward', 'from', 'function', 'good', 'goodbye', 'gradient', 'great', 'hate', 'have', 'hell', 'hello', 'help', 'helped', 'hey', 'hi', 'hidden', 'hour', 'how', 'hyper', 'i', 'imputer', 'in', 'intelligence', 'is', 'jerk', 'joke', 'knn', 'later', 'layer', 'learner', 'learning', 'leaving', 'link', 'listen', 'logistic', 'lot', 'machine', 'me', 'ml', 'my', 'naive', 'name', 'nb', 'net', 'network', 'neural', 'no', 'not', 'of', 'olympus', 'olypus', 'on', 'online', 'operation', 'opertions', 'otimizer', 'parameter', 'piece', 'please', 'pm', 'problem', 'propagation', 'random', 'regression', 'relu', 'screw', 'see', 'sgd', 'shit', 'sigmoid', 'sl', 'smart', 'softmax', 'solution', 'solved', 'stupid', 'supervised', 'svm', 'talking', 'teach', 'techb=niques', 'technique', 'thank', 'thanks', 'the', 'there', 'think', 'ticket', 'time', 'to', 'ton', 'too', 'tool', 'unable', 'understand', 'up', 'use', 'useless', 'validation', 'very', 'visible', 'wasted', 'weight', 'what', 'whats', 'when', 'who', 'whom', 'window', 'with', 'work', 'working', 'ya', 'yo', 'you', 'your']\n"
     ]
    }
   ],
   "source": [
    "print(len(words), \"unique lemmatized words = \\n\\n\", words)"
   ]
  },
  {
   "cell_type": "code",
   "execution_count": 30,
   "id": "6dc89f78-3ef1-4c8e-a51c-cebd13e87e77",
   "metadata": {},
   "outputs": [],
   "source": [
    "# In the above output, we have observed a total of 128 documents, 8 classes and 158 unique lemmatized words.\n",
    "# We have also saved the words and classes for further use, code shown in below"
   ]
  },
  {
   "cell_type": "code",
   "execution_count": 31,
   "id": "e707035b-522c-4caf-90e2-b68d57e954b9",
   "metadata": {},
   "outputs": [],
   "source": [
    "# creating a pickle file to store the Python objects which we will use while predicting "
   ]
  },
  {
   "cell_type": "code",
   "execution_count": 32,
   "id": "1a465848-8106-4ff7-9587-b9e794fb0732",
   "metadata": {},
   "outputs": [],
   "source": [
    "pickle.dump(words,open('words.pkl','wb'))\n",
    "pickle.dump(classes,open('classes.pkl','wb'))"
   ]
  },
  {
   "cell_type": "code",
   "execution_count": null,
   "id": "1e31ee49-a51a-48c9-a8e2-f100469c38b4",
   "metadata": {},
   "outputs": [],
   "source": [
    "# Lemmatization\n",
    "# Lemmatization is the grouping together the inflected forms of words into one word\n",
    "# For example, the root word or lemmatized word from trouble, troubling, troubled and troubles is trouble\n",
    "# Using the same concept, we have a total of 128 unique root words present in our training dataset"
   ]
  },
  {
   "cell_type": "code",
   "execution_count": null,
   "id": "417675bc-bcfe-48b5-a35e-c40677708719",
   "metadata": {},
   "outputs": [],
   "source": [
    "# Step -3 \n",
    "# Creating our training data"
   ]
  },
  {
   "cell_type": "code",
   "execution_count": 48,
   "id": "3d292899-83b3-4ab9-b104-9013f0f4ac6e",
   "metadata": {},
   "outputs": [],
   "source": [
    "training = []"
   ]
  },
  {
   "cell_type": "code",
   "execution_count": null,
   "id": "65f00d5a-4649-4d82-bd84-b85c3b064b49",
   "metadata": {},
   "outputs": [],
   "source": [
    "# creating an empty array for our output"
   ]
  },
  {
   "cell_type": "code",
   "execution_count": 50,
   "id": "6bb407b2-f48d-4dae-a2bc-881132478a6a",
   "metadata": {},
   "outputs": [],
   "source": [
    "output_empty = [0] * len(classes)"
   ]
  },
  {
   "cell_type": "code",
   "execution_count": null,
   "id": "ae0beecd-2def-4942-8be8-f798a1c84023",
   "metadata": {},
   "outputs": [],
   "source": [
    "# Training set, bag of words for each sentence"
   ]
  },
  {
   "cell_type": "code",
   "execution_count": 52,
   "id": "1929a8a2-a40d-43af-976a-15bba6c36baa",
   "metadata": {},
   "outputs": [],
   "source": [
    "for doc in documents:\n",
    "    \n",
    "    bag = []                      # initialize our bag of words\n",
    "    \n",
    "    pattern_words = doc[0]        # list of tokenized words for the pattern\n",
    "    \n",
    "    # Lemmatize each word; create base word, in attempt to represent related words\n",
    "    \n",
    "    pattern_words = [lemmatizer.lemmatize(word.lower()) for word in pattern_words]\n",
    "    \n",
    "    # Create our bag of words array with 1, if word match found in current pattern\n",
    "    \n",
    "    for w in words:\n",
    "        \n",
    "        bag.append(1) if w in pattern_words else bag.append(0)\n",
    "        \n",
    "    # output is a '0' for each tag and '1' for current tag (for each pattern)\n",
    "    \n",
    "    output_row = list(output_empty)\n",
    "    \n",
    "    output_row[classes.index(doc[1])] = 1\n",
    "    \n",
    "    training.append([bag, output_row])"
   ]
  },
  {
   "cell_type": "code",
   "execution_count": null,
   "id": "be94a906-076f-4a48-a901-a9f1fe25c9b7",
   "metadata": {},
   "outputs": [],
   "source": [
    "# shuffle features and converting it into numpy arrays"
   ]
  },
  {
   "cell_type": "code",
   "execution_count": 53,
   "id": "88fad1c2-5d82-48e2-a0c3-ef697e93f56e",
   "metadata": {},
   "outputs": [],
   "source": [
    "random.shuffle(training)\n",
    "training = np.array(training)"
   ]
  },
  {
   "cell_type": "code",
   "execution_count": null,
   "id": "ab84ddc4-9c45-4bdc-b9cb-12ccba57ced5",
   "metadata": {},
   "outputs": [],
   "source": [
    "# Create train and test lists"
   ]
  },
  {
   "cell_type": "code",
   "execution_count": 56,
   "id": "e5f0e11f-a7a1-45f7-ada1-48a78acd4686",
   "metadata": {},
   "outputs": [],
   "source": [
    "train_x = list(training[:,0])\n",
    "train_y = list(training[:,1])"
   ]
  },
  {
   "cell_type": "code",
   "execution_count": 57,
   "id": "e60b8f15-3546-49a7-91c1-5a48d6b9c6db",
   "metadata": {},
   "outputs": [
    {
     "name": "stdout",
     "output_type": "stream",
     "text": [
      "Training Data Created\n"
     ]
    }
   ],
   "source": [
    "print(\"Training Data Created\")"
   ]
  },
  {
   "cell_type": "code",
   "execution_count": null,
   "id": "36a0d114-fa3a-4004-a49a-6ec3425f5683",
   "metadata": {},
   "outputs": [],
   "source": [
    "# Creating Neural Network Model"
   ]
  },
  {
   "cell_type": "code",
   "execution_count": 61,
   "id": "c8799a40-dbb4-43c8-a8f6-78f1fdc96e4e",
   "metadata": {},
   "outputs": [],
   "source": [
    "# Create NN model to predict the responses\n",
    "\n",
    "model = Sequential()\n",
    "\n",
    "model.add(Dense(128, input_shape = (len(train_x[0]),), activation = 'relu'))\n",
    "\n",
    "model.add(Dropout(0.5))\n",
    "\n",
    "model.add(Dense(64, activation = 'relu'))\n",
    "\n",
    "model.add(Dropout(0.5))\n",
    "\n",
    "model.add(Dense(len(train_y[0]), activation = 'softmax'))"
   ]
  },
  {
   "cell_type": "code",
   "execution_count": null,
   "id": "bcfd73b2-4d35-46ab-a34b-463ea0b85f65",
   "metadata": {},
   "outputs": [],
   "source": [
    "# compile model \n",
    "# Stochatic Gradient Descent (SGD) with Nesterov accelerated gradient gives results for this model"
   ]
  },
  {
   "cell_type": "code",
   "execution_count": 62,
   "id": "8e2cf9d4-3153-4c4f-84ea-cc711fea7e0d",
   "metadata": {},
   "outputs": [],
   "source": [
    "sgd = SGD(learning_rate=0.01, decay = 1e-6, momentum = 0.9, nesterov = True)"
   ]
  },
  {
   "cell_type": "code",
   "execution_count": 63,
   "id": "20fb29a2-32d2-413d-af2e-fa961d8ff0ff",
   "metadata": {},
   "outputs": [],
   "source": [
    "model.compile(loss='categorical_crossentropy', optimizer = sgd, metrics = ['accuracy'])"
   ]
  },
  {
   "cell_type": "code",
   "execution_count": null,
   "id": "3418d932-1259-49da-9aa8-f1b9cabc2b59",
   "metadata": {},
   "outputs": [],
   "source": [
    "# fitting and saving the model"
   ]
  },
  {
   "cell_type": "code",
   "execution_count": 64,
   "id": "bc293f75-f573-4ee8-ae4a-ee76fc5b2651",
   "metadata": {},
   "outputs": [
    {
     "name": "stdout",
     "output_type": "stream",
     "text": [
      "Epoch 1/200\n",
      "26/26 [==============================] - 0s 625us/step - loss: 2.1003 - accuracy: 0.1719\n",
      "Epoch 2/200\n",
      "26/26 [==============================] - 0s 625us/step - loss: 1.9563 - accuracy: 0.2266\n",
      "Epoch 3/200\n",
      "26/26 [==============================] - 0s 625us/step - loss: 1.8631 - accuracy: 0.2734\n",
      "Epoch 4/200\n",
      "26/26 [==============================] - 0s 0s/step - loss: 1.7392 - accuracy: 0.3594\n",
      "Epoch 5/200\n",
      "26/26 [==============================] - 0s 641us/step - loss: 1.6771 - accuracy: 0.3750\n",
      "Epoch 6/200\n",
      "26/26 [==============================] - 0s 625us/step - loss: 1.6082 - accuracy: 0.3750\n",
      "Epoch 7/200\n",
      "26/26 [==============================] - 0s 625us/step - loss: 1.4067 - accuracy: 0.5234\n",
      "Epoch 8/200\n",
      "26/26 [==============================] - 0s 625us/step - loss: 1.3119 - accuracy: 0.5078\n",
      "Epoch 9/200\n",
      "26/26 [==============================] - 0s 625us/step - loss: 1.2221 - accuracy: 0.5469\n",
      "Epoch 10/200\n",
      "26/26 [==============================] - 0s 625us/step - loss: 1.1174 - accuracy: 0.6562\n",
      "Epoch 11/200\n",
      "26/26 [==============================] - 0s 625us/step - loss: 0.9966 - accuracy: 0.6406\n",
      "Epoch 12/200\n",
      "26/26 [==============================] - 0s 420us/step - loss: 0.8997 - accuracy: 0.7266\n",
      "Epoch 13/200\n",
      "26/26 [==============================] - 0s 625us/step - loss: 0.8749 - accuracy: 0.7109\n",
      "Epoch 14/200\n",
      "26/26 [==============================] - 0s 625us/step - loss: 0.7655 - accuracy: 0.7500\n",
      "Epoch 15/200\n",
      "26/26 [==============================] - 0s 625us/step - loss: 0.7204 - accuracy: 0.7500\n",
      "Epoch 16/200\n",
      "26/26 [==============================] - 0s 625us/step - loss: 0.5608 - accuracy: 0.8281\n",
      "Epoch 17/200\n",
      "26/26 [==============================] - 0s 625us/step - loss: 0.5770 - accuracy: 0.7969\n",
      "Epoch 18/200\n",
      "26/26 [==============================] - 0s 641us/step - loss: 0.5069 - accuracy: 0.8125\n",
      "Epoch 19/200\n",
      "26/26 [==============================] - 0s 625us/step - loss: 0.5073 - accuracy: 0.8594\n",
      "Epoch 20/200\n",
      "26/26 [==============================] - 0s 625us/step - loss: 0.4504 - accuracy: 0.8828\n",
      "Epoch 21/200\n",
      "26/26 [==============================] - 0s 625us/step - loss: 0.3896 - accuracy: 0.8906\n",
      "Epoch 22/200\n",
      "26/26 [==============================] - 0s 625us/step - loss: 0.3177 - accuracy: 0.8906\n",
      "Epoch 23/200\n",
      "26/26 [==============================] - 0s 625us/step - loss: 0.3145 - accuracy: 0.9219\n",
      "Epoch 24/200\n",
      "26/26 [==============================] - 0s 705us/step - loss: 0.3053 - accuracy: 0.8906\n",
      "Epoch 25/200\n",
      "26/26 [==============================] - 0s 560us/step - loss: 0.2252 - accuracy: 0.9609\n",
      "Epoch 26/200\n",
      "26/26 [==============================] - 0s 625us/step - loss: 0.2578 - accuracy: 0.9219\n",
      "Epoch 27/200\n",
      "26/26 [==============================] - 0s 625us/step - loss: 0.2818 - accuracy: 0.9453\n",
      "Epoch 28/200\n",
      "26/26 [==============================] - 0s 625us/step - loss: 0.1702 - accuracy: 0.9766\n",
      "Epoch 29/200\n",
      "26/26 [==============================] - 0s 625us/step - loss: 0.1856 - accuracy: 0.9688\n",
      "Epoch 30/200\n",
      "26/26 [==============================] - 0s 945us/step - loss: 0.2030 - accuracy: 0.9375\n",
      "Epoch 31/200\n",
      "26/26 [==============================] - 0s 320us/step - loss: 0.2089 - accuracy: 0.9453\n",
      "Epoch 32/200\n",
      "26/26 [==============================] - 0s 625us/step - loss: 0.1876 - accuracy: 0.9375\n",
      "Epoch 33/200\n",
      "26/26 [==============================] - 0s 625us/step - loss: 0.1347 - accuracy: 0.9766\n",
      "Epoch 34/200\n",
      "26/26 [==============================] - 0s 625us/step - loss: 0.1255 - accuracy: 0.9766\n",
      "Epoch 35/200\n",
      "26/26 [==============================] - 0s 625us/step - loss: 0.1376 - accuracy: 0.9766\n",
      "Epoch 36/200\n",
      "26/26 [==============================] - 0s 625us/step - loss: 0.0905 - accuracy: 0.9688\n",
      "Epoch 37/200\n",
      "26/26 [==============================] - 0s 0s/step - loss: 0.1421 - accuracy: 0.9688\n",
      "Epoch 38/200\n",
      "26/26 [==============================] - 0s 838us/step - loss: 0.0948 - accuracy: 0.9766\n",
      "Epoch 39/200\n",
      "26/26 [==============================] - 0s 0s/step - loss: 0.1198 - accuracy: 0.9609\n",
      "Epoch 40/200\n",
      "26/26 [==============================] - 0s 0s/step - loss: 0.1064 - accuracy: 0.9688\n",
      "Epoch 41/200\n",
      "26/26 [==============================] - 0s 625us/step - loss: 0.0865 - accuracy: 0.9844\n",
      "Epoch 42/200\n",
      "26/26 [==============================] - 0s 625us/step - loss: 0.0919 - accuracy: 0.9766\n",
      "Epoch 43/200\n",
      "26/26 [==============================] - 0s 641us/step - loss: 0.1046 - accuracy: 0.9766\n",
      "Epoch 44/200\n",
      "26/26 [==============================] - 0s 625us/step - loss: 0.0758 - accuracy: 0.9766\n",
      "Epoch 45/200\n",
      "26/26 [==============================] - 0s 625us/step - loss: 0.1143 - accuracy: 0.9688\n",
      "Epoch 46/200\n",
      "26/26 [==============================] - 0s 625us/step - loss: 0.1250 - accuracy: 0.9453\n",
      "Epoch 47/200\n",
      "26/26 [==============================] - 0s 625us/step - loss: 0.0580 - accuracy: 0.9922\n",
      "Epoch 48/200\n",
      "26/26 [==============================] - 0s 625us/step - loss: 0.0858 - accuracy: 0.9766\n",
      "Epoch 49/200\n",
      "26/26 [==============================] - 0s 641us/step - loss: 0.0932 - accuracy: 0.9766\n",
      "Epoch 50/200\n",
      "26/26 [==============================] - 0s 625us/step - loss: 0.0841 - accuracy: 0.9844\n",
      "Epoch 51/200\n",
      "26/26 [==============================] - 0s 625us/step - loss: 0.0641 - accuracy: 0.9688\n",
      "Epoch 52/200\n",
      "26/26 [==============================] - 0s 625us/step - loss: 0.0572 - accuracy: 0.9844\n",
      "Epoch 53/200\n",
      "26/26 [==============================] - 0s 625us/step - loss: 0.0678 - accuracy: 0.9844\n",
      "Epoch 54/200\n",
      "26/26 [==============================] - 0s 625us/step - loss: 0.0440 - accuracy: 1.0000\n",
      "Epoch 55/200\n",
      "26/26 [==============================] - 0s 645us/step - loss: 0.0565 - accuracy: 0.9844\n",
      "Epoch 56/200\n",
      "26/26 [==============================] - 0s 620us/step - loss: 0.0599 - accuracy: 0.9922\n",
      "Epoch 57/200\n",
      "26/26 [==============================] - 0s 625us/step - loss: 0.0270 - accuracy: 1.0000\n",
      "Epoch 58/200\n",
      "26/26 [==============================] - 0s 625us/step - loss: 0.0359 - accuracy: 1.0000\n",
      "Epoch 59/200\n",
      "26/26 [==============================] - 0s 625us/step - loss: 0.0520 - accuracy: 0.9766\n",
      "Epoch 60/200\n",
      "26/26 [==============================] - 0s 625us/step - loss: 0.0561 - accuracy: 0.9922\n",
      "Epoch 61/200\n",
      "26/26 [==============================] - 0s 625us/step - loss: 0.0336 - accuracy: 0.9922\n",
      "Epoch 62/200\n",
      "26/26 [==============================] - 0s 380us/step - loss: 0.0464 - accuracy: 1.0000\n",
      "Epoch 63/200\n",
      "26/26 [==============================] - 0s 625us/step - loss: 0.0576 - accuracy: 0.9688\n",
      "Epoch 64/200\n",
      "26/26 [==============================] - 0s 625us/step - loss: 0.0714 - accuracy: 0.9844\n",
      "Epoch 65/200\n",
      "26/26 [==============================] - 0s 625us/step - loss: 0.0299 - accuracy: 0.9922\n",
      "Epoch 66/200\n",
      "26/26 [==============================] - 0s 625us/step - loss: 0.0395 - accuracy: 1.0000\n",
      "Epoch 67/200\n",
      "26/26 [==============================] - 0s 625us/step - loss: 0.0283 - accuracy: 0.9922\n",
      "Epoch 68/200\n",
      "26/26 [==============================] - 0s 823us/step - loss: 0.0381 - accuracy: 0.9922\n",
      "Epoch 69/200\n",
      "26/26 [==============================] - 0s 460us/step - loss: 0.0476 - accuracy: 0.9844\n",
      "Epoch 70/200\n",
      "26/26 [==============================] - 0s 625us/step - loss: 0.0561 - accuracy: 0.9844\n",
      "Epoch 71/200\n",
      "26/26 [==============================] - 0s 625us/step - loss: 0.0466 - accuracy: 0.9844\n",
      "Epoch 72/200\n",
      "26/26 [==============================] - 0s 625us/step - loss: 0.0899 - accuracy: 0.9688\n",
      "Epoch 73/200\n",
      "26/26 [==============================] - 0s 625us/step - loss: 0.0450 - accuracy: 0.9844\n",
      "Epoch 74/200\n",
      "26/26 [==============================] - 0s 725us/step - loss: 0.0228 - accuracy: 1.0000\n",
      "Epoch 75/200\n",
      "26/26 [==============================] - 0s 540us/step - loss: 0.0455 - accuracy: 0.9922\n",
      "Epoch 76/200\n",
      "26/26 [==============================] - 0s 625us/step - loss: 0.0465 - accuracy: 1.0000\n",
      "Epoch 77/200\n",
      "26/26 [==============================] - 0s 625us/step - loss: 0.0272 - accuracy: 0.9922\n",
      "Epoch 78/200\n",
      "26/26 [==============================] - 0s 625us/step - loss: 0.0296 - accuracy: 1.0000\n",
      "Epoch 79/200\n",
      "26/26 [==============================] - 0s 625us/step - loss: 0.0296 - accuracy: 0.9766\n",
      "Epoch 80/200\n",
      "26/26 [==============================] - 0s 965us/step - loss: 0.0491 - accuracy: 0.9766\n",
      "Epoch 81/200\n",
      "26/26 [==============================] - 0s 300us/step - loss: 0.0314 - accuracy: 1.0000\n",
      "Epoch 82/200\n",
      "26/26 [==============================] - 0s 625us/step - loss: 0.0202 - accuracy: 1.0000\n",
      "Epoch 83/200\n",
      "26/26 [==============================] - 0s 625us/step - loss: 0.0352 - accuracy: 0.9844\n",
      "Epoch 84/200\n",
      "26/26 [==============================] - 0s 625us/step - loss: 0.0395 - accuracy: 1.0000\n",
      "Epoch 85/200\n",
      "26/26 [==============================] - 0s 625us/step - loss: 0.0248 - accuracy: 1.0000\n",
      "Epoch 86/200\n",
      "26/26 [==============================] - 0s 0s/step - loss: 0.0696 - accuracy: 0.9766\n",
      "Epoch 87/200\n",
      "26/26 [==============================] - 0s 0s/step - loss: 0.0187 - accuracy: 1.0000\n",
      "Epoch 88/200\n",
      "26/26 [==============================] - 0s 0s/step - loss: 0.0311 - accuracy: 1.0000\n",
      "Epoch 89/200\n",
      "26/26 [==============================] - 0s 0s/step - loss: 0.0172 - accuracy: 1.0000\n",
      "Epoch 90/200\n",
      "26/26 [==============================] - 0s 625us/step - loss: 0.0418 - accuracy: 0.9766\n",
      "Epoch 91/200\n",
      "26/26 [==============================] - 0s 625us/step - loss: 0.0472 - accuracy: 0.9844\n",
      "Epoch 92/200\n",
      "26/26 [==============================] - 0s 625us/step - loss: 0.0430 - accuracy: 0.9844\n",
      "Epoch 93/200\n",
      "26/26 [==============================] - 0s 641us/step - loss: 0.0241 - accuracy: 1.0000\n",
      "Epoch 94/200\n",
      "26/26 [==============================] - 0s 625us/step - loss: 0.0310 - accuracy: 0.9922\n",
      "Epoch 95/200\n",
      "26/26 [==============================] - 0s 625us/step - loss: 0.0795 - accuracy: 0.9844\n",
      "Epoch 96/200\n",
      "26/26 [==============================] - 0s 625us/step - loss: 0.0434 - accuracy: 0.9922\n",
      "Epoch 97/200\n",
      "26/26 [==============================] - 0s 625us/step - loss: 0.0114 - accuracy: 1.0000\n",
      "Epoch 98/200\n",
      "26/26 [==============================] - 0s 625us/step - loss: 0.0352 - accuracy: 1.0000\n",
      "Epoch 99/200\n",
      "26/26 [==============================] - 0s 641us/step - loss: 0.0226 - accuracy: 1.0000\n",
      "Epoch 100/200\n",
      "26/26 [==============================] - 0s 844us/step - loss: 0.0144 - accuracy: 1.0000\n",
      "Epoch 101/200\n",
      "26/26 [==============================] - 0s 420us/step - loss: 0.0325 - accuracy: 0.9844\n",
      "Epoch 102/200\n",
      "26/26 [==============================] - 0s 625us/step - loss: 0.0396 - accuracy: 0.9922\n",
      "Epoch 103/200\n",
      "26/26 [==============================] - 0s 625us/step - loss: 0.0324 - accuracy: 0.9844\n",
      "Epoch 104/200\n",
      "26/26 [==============================] - 0s 625us/step - loss: 0.0699 - accuracy: 0.9688\n",
      "Epoch 105/200\n",
      "26/26 [==============================] - 0s 665us/step - loss: 0.0537 - accuracy: 0.9844\n",
      "Epoch 106/200\n",
      "26/26 [==============================] - 0s 600us/step - loss: 0.0221 - accuracy: 0.9922\n",
      "Epoch 107/200\n",
      "26/26 [==============================] - 0s 625us/step - loss: 0.0211 - accuracy: 1.0000\n",
      "Epoch 108/200\n",
      "26/26 [==============================] - 0s 625us/step - loss: 0.0252 - accuracy: 0.9922\n",
      "Epoch 109/200\n",
      "26/26 [==============================] - 0s 625us/step - loss: 0.0201 - accuracy: 1.0000\n",
      "Epoch 110/200\n",
      "26/26 [==============================] - 0s 625us/step - loss: 0.0387 - accuracy: 0.9922\n",
      "Epoch 111/200\n",
      "26/26 [==============================] - 0s 905us/step - loss: 0.0772 - accuracy: 0.9844\n",
      "Epoch 112/200\n",
      "26/26 [==============================] - 0s 360us/step - loss: 0.0291 - accuracy: 0.9922\n",
      "Epoch 113/200\n",
      "26/26 [==============================] - 0s 625us/step - loss: 0.0262 - accuracy: 0.9922\n",
      "Epoch 114/200\n",
      "26/26 [==============================] - 0s 625us/step - loss: 0.0207 - accuracy: 1.0000\n",
      "Epoch 115/200\n",
      "26/26 [==============================] - 0s 625us/step - loss: 0.0271 - accuracy: 0.9844\n",
      "Epoch 116/200\n",
      "26/26 [==============================] - 0s 625us/step - loss: 0.0347 - accuracy: 0.9922\n",
      "Epoch 117/200\n",
      "26/26 [==============================] - 0s 625us/step - loss: 0.0228 - accuracy: 0.9922\n",
      "Epoch 118/200\n",
      "26/26 [==============================] - 0s 120us/step - loss: 0.0379 - accuracy: 0.9922\n",
      "Epoch 119/200\n",
      "26/26 [==============================] - 0s 625us/step - loss: 0.0409 - accuracy: 0.9922\n",
      "Epoch 120/200\n",
      "26/26 [==============================] - 0s 625us/step - loss: 0.0352 - accuracy: 0.9922\n",
      "Epoch 121/200\n",
      "26/26 [==============================] - 0s 0s/step - loss: 0.0127 - accuracy: 1.0000 \n",
      "Epoch 122/200\n",
      "26/26 [==============================] - 0s 0s/step - loss: 0.0155 - accuracy: 0.9922\n",
      "Epoch 123/200\n",
      "26/26 [==============================] - 0s 625us/step - loss: 0.0092 - accuracy: 1.0000\n",
      "Epoch 124/200\n",
      "26/26 [==============================] - 0s 641us/step - loss: 0.0114 - accuracy: 1.0000\n",
      "Epoch 125/200\n",
      "26/26 [==============================] - 0s 625us/step - loss: 0.0290 - accuracy: 0.9844\n",
      "Epoch 126/200\n",
      "26/26 [==============================] - 0s 625us/step - loss: 0.0166 - accuracy: 0.9922\n",
      "Epoch 127/200\n",
      "26/26 [==============================] - 0s 625us/step - loss: 0.0321 - accuracy: 0.9922\n",
      "Epoch 128/200\n",
      "26/26 [==============================] - 0s 625us/step - loss: 0.0068 - accuracy: 1.0000\n",
      "Epoch 129/200\n",
      "26/26 [==============================] - 0s 625us/step - loss: 0.0530 - accuracy: 0.9844\n",
      "Epoch 130/200\n",
      "26/26 [==============================] - 0s 641us/step - loss: 0.0125 - accuracy: 1.0000\n",
      "Epoch 131/200\n",
      "26/26 [==============================] - 0s 625us/step - loss: 0.0043 - accuracy: 1.0000\n",
      "Epoch 132/200\n",
      "26/26 [==============================] - 0s 625us/step - loss: 0.0247 - accuracy: 1.0000\n",
      "Epoch 133/200\n",
      "26/26 [==============================] - 0s 625us/step - loss: 0.0073 - accuracy: 1.0000\n",
      "Epoch 134/200\n",
      "26/26 [==============================] - 0s 625us/step - loss: 0.0632 - accuracy: 0.9766\n",
      "Epoch 135/200\n",
      "26/26 [==============================] - 0s 625us/step - loss: 0.0166 - accuracy: 0.9922\n",
      "Epoch 136/200\n",
      "26/26 [==============================] - 0s 620us/step - loss: 0.0303 - accuracy: 0.9844\n",
      "Epoch 137/200\n",
      "26/26 [==============================] - 0s 625us/step - loss: 0.0154 - accuracy: 1.0000\n",
      "Epoch 138/200\n",
      "26/26 [==============================] - 0s 625us/step - loss: 0.0457 - accuracy: 0.9844\n",
      "Epoch 139/200\n",
      "26/26 [==============================] - 0s 625us/step - loss: 0.0163 - accuracy: 1.0000\n",
      "Epoch 140/200\n",
      "26/26 [==============================] - 0s 625us/step - loss: 0.0244 - accuracy: 0.9922\n",
      "Epoch 141/200\n",
      "26/26 [==============================] - 0s 625us/step - loss: 0.0129 - accuracy: 1.0000\n",
      "Epoch 142/200\n",
      "26/26 [==============================] - 0s 885us/step - loss: 0.0302 - accuracy: 0.9922\n",
      "Epoch 143/200\n",
      "26/26 [==============================] - 0s 380us/step - loss: 0.0388 - accuracy: 0.9922\n",
      "Epoch 144/200\n",
      "26/26 [==============================] - 0s 625us/step - loss: 0.0151 - accuracy: 1.0000\n",
      "Epoch 145/200\n",
      "26/26 [==============================] - 0s 625us/step - loss: 0.0158 - accuracy: 1.0000\n",
      "Epoch 146/200\n",
      "26/26 [==============================] - 0s 625us/step - loss: 0.0043 - accuracy: 1.0000\n",
      "Epoch 147/200\n",
      "26/26 [==============================] - 0s 625us/step - loss: 0.0156 - accuracy: 1.0000\n",
      "Epoch 148/200\n",
      "26/26 [==============================] - 0s 625us/step - loss: 0.0090 - accuracy: 1.0000\n",
      "Epoch 149/200\n",
      "26/26 [==============================] - 0s 641us/step - loss: 0.0076 - accuracy: 1.0000\n",
      "Epoch 150/200\n",
      "26/26 [==============================] - 0s 625us/step - loss: 0.0043 - accuracy: 1.0000\n",
      "Epoch 151/200\n",
      "26/26 [==============================] - 0s 625us/step - loss: 0.0304 - accuracy: 0.9922\n",
      "Epoch 152/200\n",
      "26/26 [==============================] - 0s 625us/step - loss: 0.0169 - accuracy: 0.9922\n",
      "Epoch 153/200\n",
      "26/26 [==============================] - 0s 809us/step - loss: 0.0225 - accuracy: 0.9922\n",
      "Epoch 154/200\n",
      "26/26 [==============================] - 0s 460us/step - loss: 0.0086 - accuracy: 1.0000\n",
      "Epoch 155/200\n",
      "26/26 [==============================] - 0s 726us/step - loss: 0.0211 - accuracy: 0.9922\n",
      "Epoch 156/200\n",
      "26/26 [==============================] - 0s 540us/step - loss: 0.0107 - accuracy: 1.0000\n",
      "Epoch 157/200\n",
      "26/26 [==============================] - 0s 625us/step - loss: 0.0523 - accuracy: 0.9922\n",
      "Epoch 158/200\n",
      "26/26 [==============================] - 0s 625us/step - loss: 0.0389 - accuracy: 0.9844\n",
      "Epoch 159/200\n",
      "26/26 [==============================] - 0s 625us/step - loss: 0.0067 - accuracy: 1.0000\n",
      "Epoch 160/200\n",
      "26/26 [==============================] - 0s 625us/step - loss: 0.0099 - accuracy: 1.0000\n",
      "Epoch 161/200\n",
      "26/26 [==============================] - 0s 625us/step - loss: 0.0061 - accuracy: 1.0000\n",
      "Epoch 162/200\n",
      "26/26 [==============================] - 0s 300us/step - loss: 0.0154 - accuracy: 1.0000\n",
      "Epoch 163/200\n",
      "26/26 [==============================] - 0s 670us/step - loss: 0.0135 - accuracy: 1.0000\n",
      "Epoch 164/200\n",
      "26/26 [==============================] - 0s 400us/step - loss: 0.0126 - accuracy: 1.0000\n",
      "Epoch 165/200\n",
      "26/26 [==============================] - 0s 625us/step - loss: 0.0163 - accuracy: 1.0000\n",
      "Epoch 166/200\n",
      "26/26 [==============================] - 0s 625us/step - loss: 0.0267 - accuracy: 0.9922\n",
      "Epoch 167/200\n",
      "26/26 [==============================] - 0s 625us/step - loss: 0.0100 - accuracy: 1.0000\n",
      "Epoch 168/200\n",
      "26/26 [==============================] - 0s 640us/step - loss: 0.0062 - accuracy: 1.0000\n",
      "Epoch 169/200\n",
      "26/26 [==============================] - 0s 0s/step - loss: 0.0160 - accuracy: 0.9922 \n",
      "Epoch 170/200\n",
      "26/26 [==============================] - 0s 0s/step - loss: 0.0098 - accuracy: 1.0000\n",
      "Epoch 171/200\n",
      "26/26 [==============================] - 0s 0s/step - loss: 0.0108 - accuracy: 0.9922\n",
      "Epoch 172/200\n",
      "26/26 [==============================] - 0s 0s/step - loss: 0.0070 - accuracy: 1.0000 \n",
      "Epoch 173/200\n",
      "26/26 [==============================] - 0s 625us/step - loss: 0.0027 - accuracy: 1.0000\n",
      "Epoch 174/200\n",
      "26/26 [==============================] - 0s 625us/step - loss: 0.0106 - accuracy: 1.0000\n",
      "Epoch 175/200\n",
      "26/26 [==============================] - 0s 640us/step - loss: 0.0098 - accuracy: 1.0000\n",
      "Epoch 176/200\n",
      "26/26 [==============================] - 0s 625us/step - loss: 0.0012 - accuracy: 1.0000\n",
      "Epoch 177/200\n",
      "26/26 [==============================] - 0s 625us/step - loss: 0.0051 - accuracy: 1.0000\n",
      "Epoch 178/200\n",
      "26/26 [==============================] - 0s 625us/step - loss: 0.0131 - accuracy: 1.0000\n",
      "Epoch 179/200\n",
      "26/26 [==============================] - 0s 625us/step - loss: 0.0138 - accuracy: 0.9922\n",
      "Epoch 180/200\n",
      "26/26 [==============================] - 0s 625us/step - loss: 0.0073 - accuracy: 1.0000\n",
      "Epoch 181/200\n",
      "26/26 [==============================] - 0s 641us/step - loss: 0.0690 - accuracy: 0.9766\n",
      "Epoch 182/200\n",
      "26/26 [==============================] - 0s 625us/step - loss: 0.0080 - accuracy: 1.0000\n",
      "Epoch 183/200\n",
      "26/26 [==============================] - 0s 625us/step - loss: 0.0196 - accuracy: 0.9922\n",
      "Epoch 184/200\n",
      "26/26 [==============================] - 0s 625us/step - loss: 0.0244 - accuracy: 1.0000\n",
      "Epoch 185/200\n",
      "26/26 [==============================] - 0s 625us/step - loss: 0.0038 - accuracy: 1.0000\n",
      "Epoch 186/200\n",
      "26/26 [==============================] - 0s 625us/step - loss: 0.0041 - accuracy: 1.0000\n",
      "Epoch 187/200\n",
      "26/26 [==============================] - 0s 665us/step - loss: 0.0148 - accuracy: 0.9922\n",
      "Epoch 188/200\n",
      "26/26 [==============================] - 0s 600us/step - loss: 0.0050 - accuracy: 1.0000\n",
      "Epoch 189/200\n",
      "26/26 [==============================] - 0s 625us/step - loss: 0.0144 - accuracy: 0.9922\n",
      "Epoch 190/200\n",
      "26/26 [==============================] - 0s 625us/step - loss: 0.0107 - accuracy: 1.0000\n",
      "Epoch 191/200\n",
      "26/26 [==============================] - 0s 625us/step - loss: 0.0107 - accuracy: 1.0000\n",
      "Epoch 192/200\n",
      "26/26 [==============================] - 0s 625us/step - loss: 0.0070 - accuracy: 1.0000\n",
      "Epoch 193/200\n",
      "26/26 [==============================] - 0s 905us/step - loss: 0.0212 - accuracy: 0.9844\n",
      "Epoch 194/200\n",
      "26/26 [==============================] - 0s 360us/step - loss: 0.0054 - accuracy: 1.0000\n",
      "Epoch 195/200\n",
      "26/26 [==============================] - 0s 0s/step - loss: 0.0152 - accuracy: 0.9922 \n",
      "Epoch 196/200\n",
      "26/26 [==============================] - 0s 0s/step - loss: 0.0075 - accuracy: 1.0000\n",
      "Epoch 197/200\n",
      "26/26 [==============================] - 0s 0s/step - loss: 0.0030 - accuracy: 1.0000 \n",
      "Epoch 198/200\n",
      "26/26 [==============================] - 0s 625us/step - loss: 0.0161 - accuracy: 0.9922\n",
      "Epoch 199/200\n",
      "26/26 [==============================] - 0s 641us/step - loss: 0.0083 - accuracy: 1.0000\n",
      "Epoch 200/200\n",
      "26/26 [==============================] - 0s 625us/step - loss: 0.0507 - accuracy: 0.9688\n"
     ]
    }
   ],
   "source": [
    "hist = model.fit(np.array(train_x), np.array(train_y), epochs = 200, batch_size = 5, verbose = 1)"
   ]
  },
  {
   "cell_type": "code",
   "execution_count": null,
   "id": "b588c570-ce7f-434a-9f7a-17567578379f",
   "metadata": {},
   "outputs": [],
   "source": [
    "# save the model and we will pickle this model to use in the future"
   ]
  },
  {
   "cell_type": "code",
   "execution_count": 68,
   "id": "7d7fb330-563b-4a69-8eaa-b8e96520e96f",
   "metadata": {},
   "outputs": [
    {
     "name": "stdout",
     "output_type": "stream",
     "text": [
      "Model Created Successfully! \n"
     ]
    }
   ],
   "source": [
    "model.save('chatbot.h5', hist)\n",
    "print('Model Created Successfully! ')"
   ]
  }
 ],
 "metadata": {
  "kernelspec": {
   "display_name": "Python 3 (ipykernel)",
   "language": "python",
   "name": "python3"
  },
  "language_info": {
   "codemirror_mode": {
    "name": "ipython",
    "version": 3
   },
   "file_extension": ".py",
   "mimetype": "text/x-python",
   "name": "python",
   "nbconvert_exporter": "python",
   "pygments_lexer": "ipython3",
   "version": "3.9.7"
  }
 },
 "nbformat": 4,
 "nbformat_minor": 5
}

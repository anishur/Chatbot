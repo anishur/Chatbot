{
 "cells": [
  {
   "cell_type": "code",
   "execution_count": null,
   "id": "57708589-83ec-42df-99bb-fd7059075ac5",
   "metadata": {},
   "outputs": [],
   "source": [
    "",
    ""
   ]
  },
  {
   "cell_type": "code",
   "execution_count": 3,
   "id": "a8f9c8f4-e3b2-4da1-af34-871ffd3b4ee7",
   "metadata": {},
   "outputs": [],
   "source": [
    "from botbuilder.core import ActivityHandler, TurnContext\n",
    "from botbuilder.schema import ChannelAccount"
   ]
  },
  {
   "cell_type": "code",
   "execution_count": 4,
   "id": "2064dd6c-df5d-4d15-b585-d2b720371e14",
   "metadata": {},
   "outputs": [],
   "source": [
    "class MyBot(ActivityHandler):\n",
    "    \n",
    "    async def on_message_activity(self, turn_context: TurnContext):\n",
    "        \n",
    "        await turn_context.send_activity(f\"You said '{turn_context.activity.text}'\")\n",
    "        \n",
    "    async def on_members_added_activity(self,members_added: ChannelAccount,turn_context: TurnContext):\n",
    "        \n",
    "            for member_added in members_added:\n",
    "                \n",
    "                if member_added.id != turn_context.activity.recipient.id:\n",
    "                    \n",
    "                    await turn_context.send_activity(\"Hello and Welcom!\")\n",
    "    \n",
    "    "
   ]
  }
 ],
 "metadata": {
  "kernelspec": {
   "display_name": "Python 3 (ipykernel)",
   "language": "python",
   "name": "python3"
  },
  "language_info": {
   "codemirror_mode": {
    "name": "ipython",
    "version": 3
   },
   "file_extension": ".py",
   "mimetype": "text/x-python",
   "name": "python",
   "nbconvert_exporter": "python",
   "pygments_lexer": "ipython3",
   "version": "3.9.7"
  }
 },
 "nbformat": 4,
 "nbformat_minor": 5
}

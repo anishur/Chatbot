{
 "cells": [
  {
   "cell_type": "code",
   "execution_count": 1,
   "id": "9e051c7e-605c-41a6-9e46-76e36cece10e",
   "metadata": {},
   "outputs": [],
   "source": [
    "import sys\n",
    "import traceback\n",
    "from datetime import datetime"
   ]
  },
  {
   "cell_type": "code",
   "execution_count": 2,
   "id": "5adb310e-019e-4f79-abea-1afb1bba93ae",
   "metadata": {},
   "outputs": [],
   "source": [
    "from aiohttp import web\n",
    "from aiohttp.web import Request, Response, json_response\n",
    "from botbuilder.core import(BotFrameworkAdapterSettings, TurnContext, BotFrameworkAdapter)\n",
    "from botbuilder.core.integration import aiohttp_error_middleware\n",
    "from botbuilder.schema import Activity, ActivityTypes\n",
    "from bot import MyBot\n",
    "from config import DefaultConfig"
   ]
  },
  {
   "cell_type": "code",
   "execution_count": 3,
   "id": "901ea593-0151-4c0b-8150-f53f917b1a14",
   "metadata": {},
   "outputs": [],
   "source": [
    "CONFIG = DefaultConfig()"
   ]
  },
  {
   "cell_type": "code",
   "execution_count": 4,
   "id": "bf7ee606-7bdf-4969-bbcf-644644aa8d4a",
   "metadata": {},
   "outputs": [],
   "source": [
    "# create adapter \n",
    "# https://aka.ms/about-bot-adapter to learn more about how bots work"
   ]
  },
  {
   "cell_type": "code",
   "execution_count": 4,
   "id": "e05068bf-3557-4be3-a0a4-aed27d3918d0",
   "metadata": {},
   "outputs": [],
   "source": [
    "SETTINGS = BotFrameworkAdapterSettings(CONFIG.APP_ID, CONFIG.APP_PASSWORD)\n",
    "ADAPTER = BotFrameworkAdapter(SETTINGS)"
   ]
  },
  {
   "cell_type": "code",
   "execution_count": 5,
   "id": "b6944589-3ddc-4715-8115-05c92047047a",
   "metadata": {},
   "outputs": [],
   "source": [
    "async def on_error(context: TurnContext, error: Exception):\n",
    "    \n",
    "    # this check writes out errors to console log vs app insights\n",
    "    # note: in production environment, we should consider logging this to Azure application insights\n",
    "    \n",
    "    print(f\"\\n [on_turn_error] unhandled error: {error}\", file=sys.stderr)\n",
    "    traceback.print_exc()\n",
    "    \n",
    "    #send a message to the user\n",
    "    \n",
    "    await context.send_activity(\"The bot encountered an error or bug.\")\n",
    "    await context.send_activity(\"To continue to run this bot, please fix the bot source code.\")\n",
    "    \n",
    "    # send a trace activity if we´re talking to the Bot Framework Emulator\n",
    "    \n",
    "    if context.activity.channel_id == \"emulator\":\n",
    "        \n",
    "        # create a trace activity that contains the error object\n",
    "        \n",
    "        trace_activity = Activity(\n",
    "            \n",
    "            label = \"TurnError\",\n",
    "            \n",
    "            name = \"on_turn_error Trace\",\n",
    "            \n",
    "            timestamp = datetime.utcnow(),\n",
    "            \n",
    "            type = ActivityType.trace,\n",
    "            \n",
    "            value = f\"{error}\",\n",
    "            \n",
    "            value_type = \"https://www.botframework.com/schemas/error\",\n",
    "        \n",
    "            )\n",
    "        await context.send_activity(trace_activity)\n"
   ]
  },
  {
   "cell_type": "code",
   "execution_count": 6,
   "id": "a326e253-1ca0-40ec-9f3e-6d437b8acfae",
   "metadata": {},
   "outputs": [],
   "source": [
    "ADAPTER.on_turn_error = on_error"
   ]
  },
  {
   "cell_type": "code",
   "execution_count": 7,
   "id": "747bde78-89e9-42f6-9634-0374aa44f50c",
   "metadata": {},
   "outputs": [],
   "source": [
    "# create the Bot\n",
    "\n",
    "BOT = MyBot()"
   ]
  },
  {
   "cell_type": "code",
   "execution_count": 8,
   "id": "cb2e1bbb-4723-4713-ae12-e3706bf97f21",
   "metadata": {},
   "outputs": [],
   "source": [
    "# Listen for incoming requests on /api/messages\n",
    "\n",
    "async def messages(req: Request) -> Response:\n",
    "    \n",
    "    # Main bot message handler\n",
    "    \n",
    "    if \"application/json\" in req.headers[\"Content-Type\"]:\n",
    "        \n",
    "        body = await req.json()\n",
    "    \n",
    "    else:\n",
    "        \n",
    "        return Response(status=415)\n",
    "    \n",
    "    activity = Activity().deserialize(body)\n",
    "    auth_header = req.headers[\"Authorization\"] if \"Authorization\" in req.headers else \"\"\n",
    "    \n",
    "    try:\n",
    "        response = await ADAPTER.process_activity(activity, auth_header, BOT.on_turn)\n",
    "        \n",
    "        if response:\n",
    "            \n",
    "            return json_response(data=response.body, status=response.status)\n",
    "        \n",
    "        return Response(status=201)\n",
    "    \n",
    "    except Exception as exception:\n",
    "        \n",
    "        raise exception"
   ]
  },
  {
   "cell_type": "code",
   "execution_count": 9,
   "id": "962b8259-4274-4fed-a840-6d2226ed0db1",
   "metadata": {},
   "outputs": [],
   "source": [
    "def init_func(argv):\n",
    "    \n",
    "    APP = web.Application(middlewares=[aiohttp_error_middleware])\n",
    "    \n",
    "    APP.router.add_post(\"/api/messages\", messages)\n",
    "    \n",
    "    return APP"
   ]
  },
  {
   "cell_type": "code",
   "execution_count": 10,
   "id": "621cf9d4-4bae-4da3-8a70-d609a622e46d",
   "metadata": {},
   "outputs": [
    {
     "ename": "RuntimeError",
     "evalue": "Cannot run the event loop while another loop is running",
     "output_type": "error",
     "traceback": [
      "\u001b[1;31m---------------------------------------------------------------------------\u001b[0m",
      "\u001b[1;31mRuntimeError\u001b[0m                              Traceback (most recent call last)",
      "File \u001b[1;32m~\\anaconda3\\lib\\site-packages\\aiohttp\\web.py:514\u001b[0m, in \u001b[0;36mrun_app\u001b[1;34m(app, host, port, path, sock, shutdown_timeout, keepalive_timeout, ssl_context, print, backlog, access_log_class, access_log_format, access_log, handle_signals, reuse_address, reuse_port, loop)\u001b[0m\n\u001b[0;32m    513\u001b[0m     asyncio\u001b[38;5;241m.\u001b[39mset_event_loop(loop)\n\u001b[1;32m--> 514\u001b[0m     \u001b[43mloop\u001b[49m\u001b[38;5;241;43m.\u001b[39;49m\u001b[43mrun_until_complete\u001b[49m\u001b[43m(\u001b[49m\u001b[43mmain_task\u001b[49m\u001b[43m)\u001b[49m\n\u001b[0;32m    515\u001b[0m \u001b[38;5;28;01mexcept\u001b[39;00m (GracefulExit, \u001b[38;5;167;01mKeyboardInterrupt\u001b[39;00m):  \u001b[38;5;66;03m# pragma: no cover\u001b[39;00m\n",
      "File \u001b[1;32m~\\anaconda3\\lib\\asyncio\\base_events.py:618\u001b[0m, in \u001b[0;36mBaseEventLoop.run_until_complete\u001b[1;34m(self, future)\u001b[0m\n\u001b[0;32m    617\u001b[0m \u001b[38;5;28mself\u001b[39m\u001b[38;5;241m.\u001b[39m_check_closed()\n\u001b[1;32m--> 618\u001b[0m \u001b[38;5;28;43mself\u001b[39;49m\u001b[38;5;241;43m.\u001b[39;49m\u001b[43m_check_running\u001b[49m\u001b[43m(\u001b[49m\u001b[43m)\u001b[49m\n\u001b[0;32m    620\u001b[0m new_task \u001b[38;5;241m=\u001b[39m \u001b[38;5;129;01mnot\u001b[39;00m futures\u001b[38;5;241m.\u001b[39misfuture(future)\n",
      "File \u001b[1;32m~\\anaconda3\\lib\\asyncio\\base_events.py:580\u001b[0m, in \u001b[0;36mBaseEventLoop._check_running\u001b[1;34m(self)\u001b[0m\n\u001b[0;32m    579\u001b[0m \u001b[38;5;28;01mif\u001b[39;00m events\u001b[38;5;241m.\u001b[39m_get_running_loop() \u001b[38;5;129;01mis\u001b[39;00m \u001b[38;5;129;01mnot\u001b[39;00m \u001b[38;5;28;01mNone\u001b[39;00m:\n\u001b[1;32m--> 580\u001b[0m     \u001b[38;5;28;01mraise\u001b[39;00m \u001b[38;5;167;01mRuntimeError\u001b[39;00m(\n\u001b[0;32m    581\u001b[0m         \u001b[38;5;124m'\u001b[39m\u001b[38;5;124mCannot run the event loop while another loop is running\u001b[39m\u001b[38;5;124m'\u001b[39m)\n",
      "\u001b[1;31mRuntimeError\u001b[0m: Cannot run the event loop while another loop is running",
      "\nDuring handling of the above exception, another exception occurred:\n",
      "\u001b[1;31mRuntimeError\u001b[0m                              Traceback (most recent call last)",
      "Input \u001b[1;32mIn [10]\u001b[0m, in \u001b[0;36m<cell line: 1>\u001b[1;34m()\u001b[0m\n\u001b[0;32m      7\u001b[0m     web\u001b[38;5;241m.\u001b[39mrun_app(APP, host\u001b[38;5;241m=\u001b[39m\u001b[38;5;124m\"\u001b[39m\u001b[38;5;124mlocalhost\u001b[39m\u001b[38;5;124m\"\u001b[39m, port\u001b[38;5;241m=\u001b[39mCONFIG\u001b[38;5;241m.\u001b[39mPORT)\n\u001b[0;32m      9\u001b[0m \u001b[38;5;28;01mexcept\u001b[39;00m \u001b[38;5;167;01mException\u001b[39;00m \u001b[38;5;28;01mas\u001b[39;00m error:\n\u001b[1;32m---> 11\u001b[0m     \u001b[38;5;28;01mraise\u001b[39;00m error\n",
      "Input \u001b[1;32mIn [10]\u001b[0m, in \u001b[0;36m<cell line: 1>\u001b[1;34m()\u001b[0m\n\u001b[0;32m      3\u001b[0m APP \u001b[38;5;241m=\u001b[39m init_func(\u001b[38;5;28;01mNone\u001b[39;00m)\n\u001b[0;32m      5\u001b[0m \u001b[38;5;28;01mtry\u001b[39;00m:\n\u001b[1;32m----> 7\u001b[0m     \u001b[43mweb\u001b[49m\u001b[38;5;241;43m.\u001b[39;49m\u001b[43mrun_app\u001b[49m\u001b[43m(\u001b[49m\u001b[43mAPP\u001b[49m\u001b[43m,\u001b[49m\u001b[43m \u001b[49m\u001b[43mhost\u001b[49m\u001b[38;5;241;43m=\u001b[39;49m\u001b[38;5;124;43m\"\u001b[39;49m\u001b[38;5;124;43mlocalhost\u001b[39;49m\u001b[38;5;124;43m\"\u001b[39;49m\u001b[43m,\u001b[49m\u001b[43m \u001b[49m\u001b[43mport\u001b[49m\u001b[38;5;241;43m=\u001b[39;49m\u001b[43mCONFIG\u001b[49m\u001b[38;5;241;43m.\u001b[39;49m\u001b[43mPORT\u001b[49m\u001b[43m)\u001b[49m\n\u001b[0;32m      9\u001b[0m \u001b[38;5;28;01mexcept\u001b[39;00m \u001b[38;5;167;01mException\u001b[39;00m \u001b[38;5;28;01mas\u001b[39;00m error:\n\u001b[0;32m     11\u001b[0m     \u001b[38;5;28;01mraise\u001b[39;00m error\n",
      "File \u001b[1;32m~\\anaconda3\\lib\\site-packages\\aiohttp\\web.py:518\u001b[0m, in \u001b[0;36mrun_app\u001b[1;34m(app, host, port, path, sock, shutdown_timeout, keepalive_timeout, ssl_context, print, backlog, access_log_class, access_log_format, access_log, handle_signals, reuse_address, reuse_port, loop)\u001b[0m\n\u001b[0;32m    516\u001b[0m     \u001b[38;5;28;01mpass\u001b[39;00m\n\u001b[0;32m    517\u001b[0m \u001b[38;5;28;01mfinally\u001b[39;00m:\n\u001b[1;32m--> 518\u001b[0m     \u001b[43m_cancel_tasks\u001b[49m\u001b[43m(\u001b[49m\u001b[43m{\u001b[49m\u001b[43mmain_task\u001b[49m\u001b[43m}\u001b[49m\u001b[43m,\u001b[49m\u001b[43m \u001b[49m\u001b[43mloop\u001b[49m\u001b[43m)\u001b[49m\n\u001b[0;32m    519\u001b[0m     _cancel_tasks(all_tasks(loop), loop)\n\u001b[0;32m    520\u001b[0m     loop\u001b[38;5;241m.\u001b[39mrun_until_complete(loop\u001b[38;5;241m.\u001b[39mshutdown_asyncgens())\n",
      "File \u001b[1;32m~\\anaconda3\\lib\\site-packages\\aiohttp\\web.py:445\u001b[0m, in \u001b[0;36m_cancel_tasks\u001b[1;34m(to_cancel, loop)\u001b[0m\n\u001b[0;32m    442\u001b[0m \u001b[38;5;28;01mfor\u001b[39;00m task \u001b[38;5;129;01min\u001b[39;00m to_cancel:\n\u001b[0;32m    443\u001b[0m     task\u001b[38;5;241m.\u001b[39mcancel()\n\u001b[1;32m--> 445\u001b[0m \u001b[43mloop\u001b[49m\u001b[38;5;241;43m.\u001b[39;49m\u001b[43mrun_until_complete\u001b[49m\u001b[43m(\u001b[49m\u001b[43masyncio\u001b[49m\u001b[38;5;241;43m.\u001b[39;49m\u001b[43mgather\u001b[49m\u001b[43m(\u001b[49m\u001b[38;5;241;43m*\u001b[39;49m\u001b[43mto_cancel\u001b[49m\u001b[43m,\u001b[49m\u001b[43m \u001b[49m\u001b[43mreturn_exceptions\u001b[49m\u001b[38;5;241;43m=\u001b[39;49m\u001b[38;5;28;43;01mTrue\u001b[39;49;00m\u001b[43m)\u001b[49m\u001b[43m)\u001b[49m\n\u001b[0;32m    447\u001b[0m \u001b[38;5;28;01mfor\u001b[39;00m task \u001b[38;5;129;01min\u001b[39;00m to_cancel:\n\u001b[0;32m    448\u001b[0m     \u001b[38;5;28;01mif\u001b[39;00m task\u001b[38;5;241m.\u001b[39mcancelled():\n",
      "File \u001b[1;32m~\\anaconda3\\lib\\asyncio\\base_events.py:618\u001b[0m, in \u001b[0;36mBaseEventLoop.run_until_complete\u001b[1;34m(self, future)\u001b[0m\n\u001b[0;32m    607\u001b[0m \u001b[38;5;124;03m\"\"\"Run until the Future is done.\u001b[39;00m\n\u001b[0;32m    608\u001b[0m \n\u001b[0;32m    609\u001b[0m \u001b[38;5;124;03mIf the argument is a coroutine, it is wrapped in a Task.\u001b[39;00m\n\u001b[1;32m   (...)\u001b[0m\n\u001b[0;32m    615\u001b[0m \u001b[38;5;124;03mReturn the Future's result, or raise its exception.\u001b[39;00m\n\u001b[0;32m    616\u001b[0m \u001b[38;5;124;03m\"\"\"\u001b[39;00m\n\u001b[0;32m    617\u001b[0m \u001b[38;5;28mself\u001b[39m\u001b[38;5;241m.\u001b[39m_check_closed()\n\u001b[1;32m--> 618\u001b[0m \u001b[38;5;28;43mself\u001b[39;49m\u001b[38;5;241;43m.\u001b[39;49m\u001b[43m_check_running\u001b[49m\u001b[43m(\u001b[49m\u001b[43m)\u001b[49m\n\u001b[0;32m    620\u001b[0m new_task \u001b[38;5;241m=\u001b[39m \u001b[38;5;129;01mnot\u001b[39;00m futures\u001b[38;5;241m.\u001b[39misfuture(future)\n\u001b[0;32m    621\u001b[0m future \u001b[38;5;241m=\u001b[39m tasks\u001b[38;5;241m.\u001b[39mensure_future(future, loop\u001b[38;5;241m=\u001b[39m\u001b[38;5;28mself\u001b[39m)\n",
      "File \u001b[1;32m~\\anaconda3\\lib\\asyncio\\base_events.py:580\u001b[0m, in \u001b[0;36mBaseEventLoop._check_running\u001b[1;34m(self)\u001b[0m\n\u001b[0;32m    578\u001b[0m     \u001b[38;5;28;01mraise\u001b[39;00m \u001b[38;5;167;01mRuntimeError\u001b[39;00m(\u001b[38;5;124m'\u001b[39m\u001b[38;5;124mThis event loop is already running\u001b[39m\u001b[38;5;124m'\u001b[39m)\n\u001b[0;32m    579\u001b[0m \u001b[38;5;28;01mif\u001b[39;00m events\u001b[38;5;241m.\u001b[39m_get_running_loop() \u001b[38;5;129;01mis\u001b[39;00m \u001b[38;5;129;01mnot\u001b[39;00m \u001b[38;5;28;01mNone\u001b[39;00m:\n\u001b[1;32m--> 580\u001b[0m     \u001b[38;5;28;01mraise\u001b[39;00m \u001b[38;5;167;01mRuntimeError\u001b[39;00m(\n\u001b[0;32m    581\u001b[0m         \u001b[38;5;124m'\u001b[39m\u001b[38;5;124mCannot run the event loop while another loop is running\u001b[39m\u001b[38;5;124m'\u001b[39m)\n",
      "\u001b[1;31mRuntimeError\u001b[0m: Cannot run the event loop while another loop is running"
     ]
    }
   ],
   "source": [
    "if __name__ == \"__main__\":\n",
    "    \n",
    "    APP = init_func(None)\n",
    "    \n",
    "    try:\n",
    "        \n",
    "        web.run_app(APP, host=\"localhost\", port=CONFIG.PORT)\n",
    "    \n",
    "    except Exception as error:\n",
    "        \n",
    "        raise error"
   ]
  },
  {
   "cell_type": "code",
   "execution_count": null,
   "id": "467e5a59-911e-4d04-81f1-975503a366ef",
   "metadata": {},
   "outputs": [],
   "source": []
  }
 ],
 "metadata": {
  "kernelspec": {
   "display_name": "Python 3 (ipykernel)",
   "language": "python",
   "name": "python3"
  },
  "language_info": {
   "codemirror_mode": {
    "name": "ipython",
    "version": 3
   },
   "file_extension": ".py",
   "mimetype": "text/x-python",
   "name": "python",
   "nbconvert_exporter": "python",
   "pygments_lexer": "ipython3",
   "version": "3.9.7"
  }
 },
 "nbformat": 4,
 "nbformat_minor": 5
}

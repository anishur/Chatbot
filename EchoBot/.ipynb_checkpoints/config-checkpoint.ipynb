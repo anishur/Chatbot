{
 "cells": [
  {
   "cell_type": "code",
   "execution_count": 1,
   "id": "92538d58-a3d0-4ce4-adef-dbb39098d1bf",
   "metadata": {},
   "outputs": [],
   "source": [
    ""
   ]
  },
  {
   "cell_type": "code",
   "execution_count": 4,
   "id": "48bb2ddf-f631-42f7-8136-ab5658a8120b",
   "metadata": {},
   "outputs": [],
   "source": [
    "import os"
   ]
  },
  {
   "cell_type": "code",
   "execution_count": 5,
   "id": "ff836c72-b241-454f-9d98-4ea86c0d2421",
   "metadata": {},
   "outputs": [],
   "source": [
    "class DefaultConfig:\n",
    "    \n",
    "    PORT = 3978\n",
    "    APP_ID = os.environ.get(\"MicrosoftAppId\", \"e1a03f01-6427-4c38-9a27-fd0e83fcea24\")\n",
    "    APP_PASSWORD = os.environ.get(\"MicrosoftAppPassword\", \"xNlTk3E2A8873_IB06jMCAQEOoo~pos-.k\" )"
   ]
  },
  {
   "cell_type": "code",
   "execution_count": null,
   "id": "84ebd4ab-f98e-44b1-8fef-41330ff12f0f",
   "metadata": {},
   "outputs": [],
   "source": []
  }
 ],
 "metadata": {
  "kernelspec": {
   "display_name": "Python 3 (ipykernel)",
   "language": "python",
   "name": "python3"
  },
  "language_info": {
   "codemirror_mode": {
    "name": "ipython",
    "version": 3
   },
   "file_extension": ".py",
   "mimetype": "text/x-python",
   "name": "python",
   "nbconvert_exporter": "python",
   "pygments_lexer": "ipython3",
   "version": "3.9.7"
  }
 },
 "nbformat": 4,
 "nbformat_minor": 5
}

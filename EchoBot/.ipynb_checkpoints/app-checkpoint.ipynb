{
 "cells": [
  {
   "cell_type": "code",
   "execution_count": 17,
   "id": "9e051c7e-605c-41a6-9e46-76e36cece10e",
   "metadata": {},
   "outputs": [],
   "source": [
    "import sys\n",
    "import traceback\n",
    "from datetime import datetime"
   ]
  },
  {
   "cell_type": "code",
   "execution_count": 18,
   "id": "5adb310e-019e-4f79-abea-1afb1bba93ae",
   "metadata": {},
   "outputs": [],
   "source": [
    "from aiohttp import web\n",
    "from aiohttp.web import Request, Response, json_response\n",
    "from botbuilder.core import(BotFrameworkAdapterSettings, TurnContext, BotFrameworkAdapter)\n",
    "from botbuilder.core.integration import aiohttp_error_middleware\n",
    "from botbuilder.schema import Activity, ActivityTypes\n",
    "from bot import MyBot\n",
    "from config import DefaultConfig"
   ]
  },
  {
   "cell_type": "code",
   "execution_count": 19,
   "id": "901ea593-0151-4c0b-8150-f53f917b1a14",
   "metadata": {},
   "outputs": [],
   "source": [
    "CONFIG = DefaultConfig()"
   ]
  },
  {
   "cell_type": "code",
   "execution_count": 20,
   "id": "bf7ee606-7bdf-4969-bbcf-644644aa8d4a",
   "metadata": {},
   "outputs": [],
   "source": [
    "# create adapter \n",
    "# https://aka.ms/about-bot-adapter to learn more about how bots work"
   ]
  },
  {
   "cell_type": "code",
   "execution_count": 21,
   "id": "e05068bf-3557-4be3-a0a4-aed27d3918d0",
   "metadata": {},
   "outputs": [],
   "source": [
    "SETTINGS = BotFrameworkAdapterSettings(CONFIG.APP_ID, CONFIG.APP_PASSWORD)\n",
    "ADAPTER = BotFrameworkAdapter(SETTINGS)"
   ]
  },
  {
   "cell_type": "code",
   "execution_count": 22,
   "id": "b6944589-3ddc-4715-8115-05c92047047a",
   "metadata": {},
   "outputs": [],
   "source": [
    "async def on_error(context: TurnContext, error: Exception):\n",
    "    \n",
    "    # this check writes out errors to console log vs app insights\n",
    "    # note: in production environment, we should consider logging this to Azure application insights\n",
    "    \n",
    "    print(f\"\\n [on_turn_error] unhandled error: {error}\", file=sys.stderr)\n",
    "    traceback.print_exc()\n",
    "    \n",
    "    #send a message to the user\n",
    "    \n",
    "    await context.send_activity(\"The bot encountered an error or bug.\")\n",
    "    await context.send_activity(\"To continue to run this bot, please fix the bot source code.\")\n",
    "    \n",
    "    # send a trace activity if we´re talking to the Bot Framework Emulator\n",
    "    \n",
    "    if context.activity.channel_id == \"emulator\":\n",
    "        \n",
    "        # create a trace activity that contains the error object\n",
    "        \n",
    "        trace_activity = Activity(\n",
    "            \n",
    "            label = \"TurnError\",\n",
    "            \n",
    "            name = \"on_turn_error Trace\",\n",
    "            \n",
    "            timestamp = datetime.utcnow(),\n",
    "            \n",
    "            type = ActivityType.trace,\n",
    "            \n",
    "            value = f\"{error}\",\n",
    "            \n",
    "            value_type = \"https://www.botframework.com/schemas/error\",\n",
    "        \n",
    "            )\n",
    "        await context.send_activity(trace_activity)\n"
   ]
  },
  {
   "cell_type": "code",
   "execution_count": 23,
   "id": "a326e253-1ca0-40ec-9f3e-6d437b8acfae",
   "metadata": {},
   "outputs": [],
   "source": [
    "ADAPTER.on_turn_error = on_error"
   ]
  },
  {
   "cell_type": "code",
   "execution_count": 24,
   "id": "747bde78-89e9-42f6-9634-0374aa44f50c",
   "metadata": {},
   "outputs": [],
   "source": [
    "# create the Bot\n",
    "\n",
    "BOT = MyBot()"
   ]
  },
  {
   "cell_type": "code",
   "execution_count": 25,
   "id": "cb2e1bbb-4723-4713-ae12-e3706bf97f21",
   "metadata": {},
   "outputs": [],
   "source": [
    "# Listen for incoming requests on /api/messages\n",
    "\n",
    "async def messages(req: Request) -> Response:\n",
    "    \n",
    "    # Main bot message handler\n",
    "    \n",
    "    if \"application/json\" in req.headers[\"Content-Type\"]:\n",
    "        \n",
    "        body = await req.json()\n",
    "    \n",
    "    else:\n",
    "        \n",
    "        return Response(status=415)\n",
    "    \n",
    "    activity = Activity().deserialize(body)\n",
    "    auth_header = req.headers[\"Authorization\"] if \"Authorization\" in req.headers else \"\"\n",
    "    \n",
    "    try:\n",
    "        response = await ADAPTER.process_activity(activity, auth_header, BOT.on_turn)\n",
    "        \n",
    "        if response:\n",
    "            \n",
    "            return json_response(data=response.body, status=response.status)\n",
    "        \n",
    "        return Response(status=201)\n",
    "    \n",
    "    except Exception as exception:\n",
    "        \n",
    "        raise exception"
   ]
  },
  {
   "cell_type": "code",
   "execution_count": 26,
   "id": "962b8259-4274-4fed-a840-6d2226ed0db1",
   "metadata": {},
   "outputs": [],
   "source": [
    "def init_func(argv):\n",
    "    \n",
    "    APP = web.Application(middlewares=[aiohttp_error_middleware])\n",
    "    \n",
    "    APP.router.add_post(\"/api/messages\", messages)\n",
    "    \n",
    "    return APP"
   ]
  },
  {
   "cell_type": "code",
   "execution_count": null,
   "id": "621cf9d4-4bae-4da3-8a70-d609a622e46d",
   "metadata": {},
   "outputs": [],
   "source": [
    "if __name__ == \"__main__\":\n",
    "    \n",
    "    APP = init_func(None)\n",
    "    \n",
    "    try:\n",
    "        \n",
    "        web.run_app(APP, host=\"localhost\", port=CONFIG.PORT)\n",
    "    \n",
    "    except Exception as error:\n",
    "        \n",
    "        raise error"
   ]
  }
 ],
 "metadata": {
  "kernelspec": {
   "display_name": "Python 3 (ipykernel)",
   "language": "python",
   "name": "python3"
  },
  "language_info": {
   "codemirror_mode": {
    "name": "ipython",
    "version": 3
   },
   "file_extension": ".py",
   "mimetype": "text/x-python",
   "name": "python",
   "nbconvert_exporter": "python",
   "pygments_lexer": "ipython3",
   "version": "3.9.7"
  }
 },
 "nbformat": 4,
 "nbformat_minor": 5
}
